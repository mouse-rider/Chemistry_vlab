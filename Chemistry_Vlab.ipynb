{
  "nbformat": 4,
  "nbformat_minor": 0,
  "metadata": {
    "colab": {
      "name": "Chemistry_Vlab.ipynb",
      "provenance": [],
      "collapsed_sections": [],
      "authorship_tag": "ABX9TyPdbjJ22OJ0KIshqD3r0W9I",
      "include_colab_link": true
    },
    "kernelspec": {
      "name": "python3",
      "display_name": "Python 3"
    },
    "language_info": {
      "name": "python"
    }
  },
  "cells": [
    {
      "cell_type": "markdown",
      "metadata": {
        "id": "view-in-github",
        "colab_type": "text"
      },
      "source": [
        "<a href=\"https://colab.research.google.com/github/mouse-rider/Chemistry_vlab/blob/main/Chemistry_Vlab.ipynb\" target=\"_parent\"><img src=\"https://colab.research.google.com/assets/colab-badge.svg\" alt=\"Open In Colab\"/></a>"
      ]
    },
    {
      "cell_type": "markdown",
      "source": [
        "# Chemistry Vlab"
      ],
      "metadata": {
        "id": "ghGtyFup9Ncn"
      }
    },
    {
      "cell_type": "code",
      "source": [
        "pip install chempy"
      ],
      "metadata": {
        "colab": {
          "base_uri": "https://localhost:8080/"
        },
        "id": "XMOm2xom9bmM",
        "outputId": "9aff4694-489a-4da5-dabd-eb20f15ecbc3"
      },
      "execution_count": null,
      "outputs": [
        {
          "output_type": "stream",
          "name": "stdout",
          "text": [
            "Looking in indexes: https://pypi.org/simple, https://us-python.pkg.dev/colab-wheels/public/simple/\n",
            "Collecting chempy\n",
            "  Downloading chempy-0.8.0.tar.gz (402 kB)\n",
            "\u001b[K     |████████████████████████████████| 402 kB 5.6 MB/s \n",
            "\u001b[?25hRequirement already satisfied: numpy>1.11.3 in /usr/local/lib/python3.7/dist-packages (from chempy) (1.21.6)\n",
            "Requirement already satisfied: scipy>=1.0.1 in /usr/local/lib/python3.7/dist-packages (from chempy) (1.7.3)\n",
            "Requirement already satisfied: matplotlib>=2.2.3 in /usr/local/lib/python3.7/dist-packages (from chempy) (3.2.2)\n",
            "Requirement already satisfied: sympy!=1.2,>=1.1.1 in /usr/local/lib/python3.7/dist-packages (from chempy) (1.7.1)\n",
            "Collecting quantities>=0.12.1\n",
            "  Downloading quantities-0.13.0.tar.gz (85 kB)\n",
            "\u001b[K     |████████████████████████████████| 85 kB 4.3 MB/s \n",
            "\u001b[?25hCollecting pyneqsys>=0.5.5\n",
            "  Downloading pyneqsys-0.5.7.tar.gz (29 kB)\n",
            "Collecting pyodesys>=0.14.0\n",
            "  Downloading pyodesys-0.14.1.tar.gz (242 kB)\n",
            "\u001b[K     |████████████████████████████████| 242 kB 50.1 MB/s \n",
            "\u001b[?25hRequirement already satisfied: pyparsing>=2.0.3 in /usr/local/lib/python3.7/dist-packages (from chempy) (3.0.9)\n",
            "Collecting sym>=0.3.4\n",
            "  Downloading sym-0.3.5.tar.gz (31 kB)\n",
            "Collecting jupyter\n",
            "  Downloading jupyter-1.0.0-py2.py3-none-any.whl (2.7 kB)\n",
            "Collecting pulp>=1.6.8\n",
            "  Downloading PuLP-2.6.0-py3-none-any.whl (14.2 MB)\n",
            "\u001b[K     |████████████████████████████████| 14.2 MB 44.7 MB/s \n",
            "\u001b[?25hCollecting dot2tex>=2.11.3\n",
            "  Downloading dot2tex-2.11.3-py2.py3-none-any.whl (36 kB)\n",
            "Requirement already satisfied: python-dateutil>=2.1 in /usr/local/lib/python3.7/dist-packages (from matplotlib>=2.2.3->chempy) (2.8.2)\n",
            "Requirement already satisfied: kiwisolver>=1.0.1 in /usr/local/lib/python3.7/dist-packages (from matplotlib>=2.2.3->chempy) (1.4.4)\n",
            "Requirement already satisfied: cycler>=0.10 in /usr/local/lib/python3.7/dist-packages (from matplotlib>=2.2.3->chempy) (0.11.0)\n",
            "Requirement already satisfied: typing-extensions in /usr/local/lib/python3.7/dist-packages (from kiwisolver>=1.0.1->matplotlib>=2.2.3->chempy) (4.1.1)\n",
            "Requirement already satisfied: notebook in /usr/local/lib/python3.7/dist-packages (from pyodesys>=0.14.0->chempy) (5.3.1)\n",
            "Requirement already satisfied: six>=1.5 in /usr/local/lib/python3.7/dist-packages (from python-dateutil>=2.1->matplotlib>=2.2.3->chempy) (1.15.0)\n",
            "Requirement already satisfied: mpmath>=0.19 in /usr/local/lib/python3.7/dist-packages (from sympy!=1.2,>=1.1.1->chempy) (1.2.1)\n",
            "Requirement already satisfied: ipykernel in /usr/local/lib/python3.7/dist-packages (from jupyter->chempy) (5.3.4)\n",
            "Requirement already satisfied: nbconvert in /usr/local/lib/python3.7/dist-packages (from jupyter->chempy) (5.6.1)\n",
            "Collecting qtconsole\n",
            "  Downloading qtconsole-5.3.1-py3-none-any.whl (120 kB)\n",
            "\u001b[K     |████████████████████████████████| 120 kB 46.7 MB/s \n",
            "\u001b[?25hRequirement already satisfied: jupyter-console in /usr/local/lib/python3.7/dist-packages (from jupyter->chempy) (6.1.0)\n",
            "Requirement already satisfied: ipywidgets in /usr/local/lib/python3.7/dist-packages (from jupyter->chempy) (7.7.1)\n",
            "Requirement already satisfied: jupyter-client in /usr/local/lib/python3.7/dist-packages (from ipykernel->jupyter->chempy) (6.1.12)\n",
            "Requirement already satisfied: traitlets>=4.1.0 in /usr/local/lib/python3.7/dist-packages (from ipykernel->jupyter->chempy) (5.1.1)\n",
            "Requirement already satisfied: tornado>=4.2 in /usr/local/lib/python3.7/dist-packages (from ipykernel->jupyter->chempy) (5.1.1)\n",
            "Requirement already satisfied: ipython>=5.0.0 in /usr/local/lib/python3.7/dist-packages (from ipykernel->jupyter->chempy) (7.9.0)\n",
            "Requirement already satisfied: setuptools>=18.5 in /usr/local/lib/python3.7/dist-packages (from ipython>=5.0.0->ipykernel->jupyter->chempy) (57.4.0)\n",
            "Requirement already satisfied: decorator in /usr/local/lib/python3.7/dist-packages (from ipython>=5.0.0->ipykernel->jupyter->chempy) (4.4.2)\n",
            "Requirement already satisfied: pygments in /usr/local/lib/python3.7/dist-packages (from ipython>=5.0.0->ipykernel->jupyter->chempy) (2.6.1)\n",
            "Collecting jedi>=0.10\n",
            "  Downloading jedi-0.18.1-py2.py3-none-any.whl (1.6 MB)\n",
            "\u001b[K     |████████████████████████████████| 1.6 MB 43.3 MB/s \n",
            "\u001b[?25hRequirement already satisfied: backcall in /usr/local/lib/python3.7/dist-packages (from ipython>=5.0.0->ipykernel->jupyter->chempy) (0.2.0)\n",
            "Requirement already satisfied: pexpect in /usr/local/lib/python3.7/dist-packages (from ipython>=5.0.0->ipykernel->jupyter->chempy) (4.8.0)\n",
            "Requirement already satisfied: prompt-toolkit<2.1.0,>=2.0.0 in /usr/local/lib/python3.7/dist-packages (from ipython>=5.0.0->ipykernel->jupyter->chempy) (2.0.10)\n",
            "Requirement already satisfied: pickleshare in /usr/local/lib/python3.7/dist-packages (from ipython>=5.0.0->ipykernel->jupyter->chempy) (0.7.5)\n",
            "Requirement already satisfied: parso<0.9.0,>=0.8.0 in /usr/local/lib/python3.7/dist-packages (from jedi>=0.10->ipython>=5.0.0->ipykernel->jupyter->chempy) (0.8.3)\n",
            "Requirement already satisfied: wcwidth in /usr/local/lib/python3.7/dist-packages (from prompt-toolkit<2.1.0,>=2.0.0->ipython>=5.0.0->ipykernel->jupyter->chempy) (0.2.5)\n",
            "Requirement already satisfied: widgetsnbextension~=3.6.0 in /usr/local/lib/python3.7/dist-packages (from ipywidgets->jupyter->chempy) (3.6.1)\n",
            "Requirement already satisfied: jupyterlab-widgets>=1.0.0 in /usr/local/lib/python3.7/dist-packages (from ipywidgets->jupyter->chempy) (3.0.2)\n",
            "Requirement already satisfied: ipython-genutils~=0.2.0 in /usr/local/lib/python3.7/dist-packages (from ipywidgets->jupyter->chempy) (0.2.0)\n",
            "Requirement already satisfied: nbformat in /usr/local/lib/python3.7/dist-packages (from notebook->pyodesys>=0.14.0->chempy) (5.4.0)\n",
            "Requirement already satisfied: jinja2 in /usr/local/lib/python3.7/dist-packages (from notebook->pyodesys>=0.14.0->chempy) (2.11.3)\n",
            "Requirement already satisfied: jupyter-core>=4.4.0 in /usr/local/lib/python3.7/dist-packages (from notebook->pyodesys>=0.14.0->chempy) (4.11.1)\n",
            "Requirement already satisfied: Send2Trash in /usr/local/lib/python3.7/dist-packages (from notebook->pyodesys>=0.14.0->chempy) (1.8.0)\n",
            "Requirement already satisfied: terminado>=0.8.1 in /usr/local/lib/python3.7/dist-packages (from notebook->pyodesys>=0.14.0->chempy) (0.13.3)\n",
            "Requirement already satisfied: pyzmq>=13 in /usr/local/lib/python3.7/dist-packages (from jupyter-client->ipykernel->jupyter->chempy) (23.2.1)\n",
            "Requirement already satisfied: ptyprocess in /usr/local/lib/python3.7/dist-packages (from terminado>=0.8.1->notebook->pyodesys>=0.14.0->chempy) (0.7.0)\n",
            "Requirement already satisfied: MarkupSafe>=0.23 in /usr/local/lib/python3.7/dist-packages (from jinja2->notebook->pyodesys>=0.14.0->chempy) (2.0.1)\n",
            "Requirement already satisfied: mistune<2,>=0.8.1 in /usr/local/lib/python3.7/dist-packages (from nbconvert->jupyter->chempy) (0.8.4)\n",
            "Requirement already satisfied: defusedxml in /usr/local/lib/python3.7/dist-packages (from nbconvert->jupyter->chempy) (0.7.1)\n",
            "Requirement already satisfied: bleach in /usr/local/lib/python3.7/dist-packages (from nbconvert->jupyter->chempy) (5.0.1)\n",
            "Requirement already satisfied: pandocfilters>=1.4.1 in /usr/local/lib/python3.7/dist-packages (from nbconvert->jupyter->chempy) (1.5.0)\n",
            "Requirement already satisfied: entrypoints>=0.2.2 in /usr/local/lib/python3.7/dist-packages (from nbconvert->jupyter->chempy) (0.4)\n",
            "Requirement already satisfied: testpath in /usr/local/lib/python3.7/dist-packages (from nbconvert->jupyter->chempy) (0.6.0)\n",
            "Requirement already satisfied: fastjsonschema in /usr/local/lib/python3.7/dist-packages (from nbformat->notebook->pyodesys>=0.14.0->chempy) (2.16.1)\n",
            "Requirement already satisfied: jsonschema>=2.6 in /usr/local/lib/python3.7/dist-packages (from nbformat->notebook->pyodesys>=0.14.0->chempy) (4.3.3)\n",
            "Requirement already satisfied: attrs>=17.4.0 in /usr/local/lib/python3.7/dist-packages (from jsonschema>=2.6->nbformat->notebook->pyodesys>=0.14.0->chempy) (22.1.0)\n",
            "Requirement already satisfied: importlib-metadata in /usr/local/lib/python3.7/dist-packages (from jsonschema>=2.6->nbformat->notebook->pyodesys>=0.14.0->chempy) (4.12.0)\n",
            "Requirement already satisfied: pyrsistent!=0.17.0,!=0.17.1,!=0.17.2,>=0.14.0 in /usr/local/lib/python3.7/dist-packages (from jsonschema>=2.6->nbformat->notebook->pyodesys>=0.14.0->chempy) (0.18.1)\n",
            "Requirement already satisfied: importlib-resources>=1.4.0 in /usr/local/lib/python3.7/dist-packages (from jsonschema>=2.6->nbformat->notebook->pyodesys>=0.14.0->chempy) (5.9.0)\n",
            "Requirement already satisfied: zipp>=3.1.0 in /usr/local/lib/python3.7/dist-packages (from importlib-resources>=1.4.0->jsonschema>=2.6->nbformat->notebook->pyodesys>=0.14.0->chempy) (3.8.1)\n",
            "Requirement already satisfied: webencodings in /usr/local/lib/python3.7/dist-packages (from bleach->nbconvert->jupyter->chempy) (0.5.1)\n",
            "Collecting qtpy>=2.0.1\n",
            "  Downloading QtPy-2.2.0-py3-none-any.whl (82 kB)\n",
            "\u001b[K     |████████████████████████████████| 82 kB 543 kB/s \n",
            "\u001b[?25hRequirement already satisfied: packaging in /usr/local/lib/python3.7/dist-packages (from qtpy>=2.0.1->qtconsole->jupyter->chempy) (21.3)\n",
            "Building wheels for collected packages: chempy, pyneqsys, pyodesys, quantities, sym\n",
            "  Building wheel for chempy (setup.py) ... \u001b[?25l\u001b[?25hdone\n",
            "  Created wheel for chempy: filename=chempy-0.8.0-py2.py3-none-any.whl size=207591 sha256=ca63ed10cce36a566253446dcebb3673846e333d34add5f6ad1b5f23b76db41e\n",
            "  Stored in directory: /root/.cache/pip/wheels/3b/5e/75/4b4e5aaa7d88de5fc6daaabc927641482b4df51570836ceb64\n",
            "  Building wheel for pyneqsys (setup.py) ... \u001b[?25l\u001b[?25hdone\n",
            "  Created wheel for pyneqsys: filename=pyneqsys-0.5.7-py2.py3-none-any.whl size=27285 sha256=aee8a9d955ee722e05dfebd6c244f60990fa72513373c5e5bb769a16105ab4bd\n",
            "  Stored in directory: /root/.cache/pip/wheels/95/a0/d1/b90fe1736d77209b62580c4ed902c201cac7d240d777bd6c7c\n",
            "  Building wheel for pyodesys (setup.py) ... \u001b[?25l\u001b[?25hdone\n",
            "  Created wheel for pyodesys: filename=pyodesys-0.14.1-py2.py3-none-any.whl size=126216 sha256=f389159a165d70225003e27267519c90a6ca26deba3519a3633a30e664d6578d\n",
            "  Stored in directory: /root/.cache/pip/wheels/28/14/c6/3827f17f4d3d378e2e4a7626a9aa27fe8558718f5a2b48f75f\n",
            "  Building wheel for quantities (setup.py) ... \u001b[?25l\u001b[?25hdone\n",
            "  Created wheel for quantities: filename=quantities-0.13.0-py3-none-any.whl size=77860 sha256=e04fb19bb11e3b0a6a65da9f42dd15210fa7975e30330fda881209e0439f33e5\n",
            "  Stored in directory: /root/.cache/pip/wheels/c1/9d/0a/cbfeaa29541b7fc8752d35f368e63578a9f64229878841412a\n",
            "  Building wheel for sym (setup.py) ... \u001b[?25l\u001b[?25hdone\n",
            "  Created wheel for sym: filename=sym-0.3.5-py2.py3-none-any.whl size=21095 sha256=248b909c3a2b12472690952e242be0fc76319f2d278de89b6ad7b01b0ba74e49\n",
            "  Stored in directory: /root/.cache/pip/wheels/30/8d/b8/ec54f0406d8fe6ff1ee56206224b333ae1a6c16e77ab24b8f8\n",
            "Successfully built chempy pyneqsys pyodesys quantities sym\n",
            "Installing collected packages: jedi, qtpy, sym, qtconsole, quantities, pyodesys, pyneqsys, pulp, jupyter, dot2tex, chempy\n",
            "Successfully installed chempy-0.8.0 dot2tex-2.11.3 jedi-0.18.1 jupyter-1.0.0 pulp-2.6.0 pyneqsys-0.5.7 pyodesys-0.14.1 qtconsole-5.3.1 qtpy-2.2.0 quantities-0.13.0 sym-0.3.5\n"
          ]
        }
      ]
    },
    {
      "cell_type": "code",
      "source": [
        "# importing the module\n",
        "from chempy.util import periodic\n",
        " \n",
        "# number of elements to be fetched\n",
        "n = 10\n",
        " \n",
        "# displaying the information\n",
        "print(\"Atomic No.\\tName\\t\\tSymbol\\t\\tMass\")\n",
        " \n",
        "# fetching the information for\n",
        "# the first 10 elements\n",
        "for i in range(1, n + 1):\n",
        " \n",
        "    # displaying the atomic number\n",
        "    print(i, end = \"\\t\\t\")\n",
        " \n",
        "    # displaying the name\n",
        "    if len(periodic.names[i]) > 7:\n",
        "        print(periodic.names[i], end = \"\\t\")\n",
        "    else:\n",
        "        print(periodic.names[i], end = \"\\t\\t\")\n",
        " \n",
        "    # displaying the symbol\n",
        "    print(periodic.symbols[i], end = \"\\t\\t\")\n",
        " \n",
        "    # displaying the mass\n",
        "    print(periodic.relative_atomic_masses[i])"
      ],
      "metadata": {
        "colab": {
          "base_uri": "https://localhost:8080/"
        },
        "id": "7JqNP1-i9moc",
        "outputId": "5019c2f2-6702-4e15-fbba-6fbe5304e2d0"
      },
      "execution_count": null,
      "outputs": [
        {
          "output_type": "stream",
          "name": "stdout",
          "text": [
            "Atomic No.\tName\t\tSymbol\t\tMass\n",
            "1\t\tHelium\t\tHe\t\t4.002602\n",
            "2\t\tLithium\t\tLi\t\t6.94\n",
            "3\t\tBeryllium\tBe\t\t9.0121831\n",
            "4\t\tBoron\t\tB\t\t10.81\n",
            "5\t\tCarbon\t\tC\t\t12.011\n",
            "6\t\tNitrogen\tN\t\t14.007\n",
            "7\t\tOxygen\t\tO\t\t15.999\n",
            "8\t\tFluorine\tF\t\t18.998403163\n",
            "9\t\tNeon\t\tNe\t\t20.1797\n",
            "10\t\tSodium\t\tNa\t\t22.98976928\n"
          ]
        }
      ]
    },
    {
      "cell_type": "code",
      "source": [
        "from chempy.util import periodic\n",
        " \n",
        "# Totally 118 elements are there in periodic table\n",
        "n = 117 \n",
        "print(\"Atomic No.\\tName\\t\\tSymbol\\t\\tMass\")\n",
        "\n",
        "for i in range(1, n + 1):\n",
        "    print(i, end = \"\\t\\t\")\n",
        "    if len(periodic.names[i]) > 7:\n",
        "        print(periodic.names[i], end = \"\\t\")\n",
        "    else:\n",
        "        print(periodic.names[i], end = \"\\t\\t\")\n",
        " \n",
        "    print(periodic.symbols[i], end = \"\\t\\t\")\n",
        "    print(periodic.relative_atomic_masses[i])"
      ],
      "metadata": {
        "colab": {
          "base_uri": "https://localhost:8080/"
        },
        "id": "LVQ6mdre9397",
        "outputId": "433f6ec9-0678-4385-b945-bcabededa642"
      },
      "execution_count": null,
      "outputs": [
        {
          "output_type": "stream",
          "name": "stdout",
          "text": [
            "Atomic No.\tName\t\tSymbol\t\tMass\n",
            "1\t\tHelium\t\tHe\t\t4.002602\n",
            "2\t\tLithium\t\tLi\t\t6.94\n",
            "3\t\tBeryllium\tBe\t\t9.0121831\n",
            "4\t\tBoron\t\tB\t\t10.81\n",
            "5\t\tCarbon\t\tC\t\t12.011\n",
            "6\t\tNitrogen\tN\t\t14.007\n",
            "7\t\tOxygen\t\tO\t\t15.999\n",
            "8\t\tFluorine\tF\t\t18.998403163\n",
            "9\t\tNeon\t\tNe\t\t20.1797\n",
            "10\t\tSodium\t\tNa\t\t22.98976928\n",
            "11\t\tMagnesium\tMg\t\t24.305\n",
            "12\t\tAluminium\tAl\t\t26.9815385\n",
            "13\t\tSilicon\t\tSi\t\t28.085\n",
            "14\t\tPhosphorus\tP\t\t30.973761998\n",
            "15\t\tSulfur\t\tS\t\t32.06\n",
            "16\t\tChlorine\tCl\t\t35.45\n",
            "17\t\tArgon\t\tAr\t\t39.948\n",
            "18\t\tPotassium\tK\t\t39.0983\n",
            "19\t\tCalcium\t\tCa\t\t40.078\n",
            "20\t\tScandium\tSc\t\t44.955908\n",
            "21\t\tTitanium\tTi\t\t47.867\n",
            "22\t\tVanadium\tV\t\t50.9415\n",
            "23\t\tChromium\tCr\t\t51.9961\n",
            "24\t\tManganese\tMn\t\t54.938044\n",
            "25\t\tIron\t\tFe\t\t55.845\n",
            "26\t\tCobalt\t\tCo\t\t58.933194\n",
            "27\t\tNickel\t\tNi\t\t58.6934\n",
            "28\t\tCopper\t\tCu\t\t63.546\n",
            "29\t\tZinc\t\tZn\t\t65.38\n",
            "30\t\tGallium\t\tGa\t\t69.723\n",
            "31\t\tGermanium\tGe\t\t72.63\n",
            "32\t\tArsenic\t\tAs\t\t74.921595\n",
            "33\t\tSelenium\tSe\t\t78.971\n",
            "34\t\tBromine\t\tBr\t\t79.904\n",
            "35\t\tKrypton\t\tKr\t\t83.798\n",
            "36\t\tRubidium\tRb\t\t85.4678\n",
            "37\t\tStrontium\tSr\t\t87.62\n",
            "38\t\tYttrium\t\tY\t\t88.90584\n",
            "39\t\tZirconium\tZr\t\t91.224\n",
            "40\t\tNiobium\t\tNb\t\t92.90637\n",
            "41\t\tMolybdenum\tMo\t\t95.95\n",
            "42\t\tTechnetium\tTc\t\t98.0\n",
            "43\t\tRuthenium\tRu\t\t101.07\n",
            "44\t\tRhodium\t\tRh\t\t102.9055\n",
            "45\t\tPalladium\tPd\t\t106.42\n",
            "46\t\tSilver\t\tAg\t\t107.8682\n",
            "47\t\tCadmium\t\tCd\t\t112.414\n",
            "48\t\tIndium\t\tIn\t\t114.818\n",
            "49\t\tTin\t\tSn\t\t118.71\n",
            "50\t\tAntimony\tSb\t\t121.76\n",
            "51\t\tTellurium\tTe\t\t127.6\n",
            "52\t\tIodine\t\tI\t\t126.90447\n",
            "53\t\tXenon\t\tXe\t\t131.293\n",
            "54\t\tCaesium\t\tCs\t\t132.90545196\n",
            "55\t\tBarium\t\tBa\t\t137.327\n",
            "56\t\tLanthanum\tLa\t\t138.90547\n",
            "57\t\tCerium\t\tCe\t\t140.116\n",
            "58\t\tPraseodymium\tPr\t\t140.90766\n",
            "59\t\tNeodymium\tNd\t\t144.242\n",
            "60\t\tPromethium\tPm\t\t145.0\n",
            "61\t\tSamarium\tSm\t\t150.36\n",
            "62\t\tEuropium\tEu\t\t151.964\n",
            "63\t\tGadolinium\tGd\t\t157.25\n",
            "64\t\tTerbium\t\tTb\t\t158.92535\n",
            "65\t\tDysprosium\tDy\t\t162.5\n",
            "66\t\tHolmium\t\tHo\t\t164.93033\n",
            "67\t\tErbium\t\tEr\t\t167.259\n",
            "68\t\tThulium\t\tTm\t\t168.93422\n",
            "69\t\tYtterbium\tYb\t\t173.045\n",
            "70\t\tLutetium\tLu\t\t174.9668\n",
            "71\t\tHafnium\t\tHf\t\t178.49\n",
            "72\t\tTantalum\tTa\t\t180.94788\n",
            "73\t\tTungsten\tW\t\t183.84\n",
            "74\t\tRhenium\t\tRe\t\t186.207\n",
            "75\t\tOsmium\t\tOs\t\t190.23\n",
            "76\t\tIridium\t\tIr\t\t192.217\n",
            "77\t\tPlatinum\tPt\t\t195.084\n",
            "78\t\tGold\t\tAu\t\t196.966569\n",
            "79\t\tMercury\t\tHg\t\t200.592\n",
            "80\t\tThallium\tTl\t\t204.38\n",
            "81\t\tLead\t\tPb\t\t207.2\n",
            "82\t\tBismuth\t\tBi\t\t208.9804\n",
            "83\t\tPolonium\tPo\t\t209.0\n",
            "84\t\tAstatine\tAt\t\t210.0\n",
            "85\t\tRadon\t\tRn\t\t222.0\n",
            "86\t\tFrancium\tFr\t\t223.0\n",
            "87\t\tRadium\t\tRa\t\t226.0\n",
            "88\t\tActinium\tAc\t\t227.0\n",
            "89\t\tThorium\t\tTh\t\t232.0377\n",
            "90\t\tProtactinium\tPa\t\t231.03588\n",
            "91\t\tUranium\t\tU\t\t238.02891\n",
            "92\t\tNeptunium\tNp\t\t237.0\n",
            "93\t\tPlutonium\tPu\t\t244.0\n",
            "94\t\tAmericium\tAm\t\t243.0\n",
            "95\t\tCurium\t\tCm\t\t247.0\n",
            "96\t\tBerkelium\tBk\t\t247.0\n",
            "97\t\tCalifornium\tCf\t\t251.0\n",
            "98\t\tEinsteinium\tEs\t\t252.0\n",
            "99\t\tFermium\t\tFm\t\t257.0\n",
            "100\t\tMendelevium\tMd\t\t258.0\n",
            "101\t\tNobelium\tNo\t\t259.0\n",
            "102\t\tLawrencium\tLr\t\t266.0\n",
            "103\t\tRutherfordium\tRf\t\t267.0\n",
            "104\t\tDubnium\t\tDb\t\t268.0\n",
            "105\t\tSeaborgium\tSg\t\t269.0\n",
            "106\t\tBohrium\t\tBh\t\t270.0\n",
            "107\t\tHassium\t\tHs\t\t271.0\n",
            "108\t\tMeitnerium\tMt\t\t278.0\n",
            "109\t\tDarmstadtium\tDs\t\t281.0\n",
            "110\t\tRoentgenium\tRg\t\t282.0\n",
            "111\t\tCopernicium\tCn\t\t285.0\n",
            "112\t\tNihonium\tNh\t\t286.0\n",
            "113\t\tFlerovium\tFl\t\t289.0\n",
            "114\t\tMoscovium\tMc\t\t290.0\n",
            "115\t\tLivermorium\tLv\t\t293.0\n",
            "116\t\tTennessine\tTs\t\t294.0\n",
            "117\t\tOganesson\tOg\t\t294.0\n"
          ]
        }
      ]
    },
    {
      "cell_type": "code",
      "source": [
        "# importing the module\n",
        "from chempy import chemistry\n",
        " \n",
        "# creating the reaction\n",
        "reaction = chemistry.Reaction({'H2': 2, 'O2': 1},{'H2O': 2})\n",
        " \n",
        "# displaying the reaction\n",
        "print(reaction)\n",
        " \n",
        "# displaying the reaction order\n",
        "print(reaction.order())"
      ],
      "metadata": {
        "colab": {
          "base_uri": "https://localhost:8080/"
        },
        "id": "tg9RFTzi-YNR",
        "outputId": "aa6a6b6d-c1f2-4722-ac82-31c3e245f8a2"
      },
      "execution_count": null,
      "outputs": [
        {
          "output_type": "stream",
          "name": "stdout",
          "text": [
            "2 H2 + O2 -> 2 H2O\n",
            "3\n"
          ]
        }
      ]
    },
    {
      "cell_type": "markdown",
      "source": [
        "Parsing *formulae*"
      ],
      "metadata": {
        "id": "ceyGkUOZ_n5b"
      }
    },
    {
      "cell_type": "code",
      "source": [
        "from chempy import Substance\n",
        "ferricyanide = Substance.from_formula('Fe(CN)6-3')\n",
        "ferricyanide.composition == {0: -3, 26: 1, 6: 6, 7: 6}  # 0 for charge\n",
        "print(ferricyanide.unicode_name)\n",
        "print(ferricyanide.latex_name + \", \" + ferricyanide.html_name)\n",
        "print('%.3f' % ferricyanide.mass)"
      ],
      "metadata": {
        "colab": {
          "base_uri": "https://localhost:8080/"
        },
        "id": "1W_dAQOc_RH0",
        "outputId": "483f302b-2ab0-4d11-9fcf-d58c356bca7e"
      },
      "execution_count": null,
      "outputs": [
        {
          "output_type": "stream",
          "name": "stdout",
          "text": [
            "Fe(CN)₆³⁻\n",
            "Fe(CN)_{6}^{3-}, Fe(CN)<sub>6</sub><sup>3-</sup>\n",
            "211.955\n"
          ]
        }
      ]
    },
    {
      "cell_type": "markdown",
      "source": [
        "*Balancing stoichiometry of a chemical reaction*"
      ],
      "metadata": {
        "id": "MZzomkSb_wDa"
      }
    },
    {
      "cell_type": "code",
      "source": [
        "from chempy import balance_stoichiometry  # Main reaction in NASA's booster rockets:\n",
        "reac, prod = balance_stoichiometry({'NH4ClO4', 'Al'}, {'Al2O3', 'HCl', 'H2O', 'N2'})\n",
        "from pprint import pprint\n",
        "pprint(dict(reac))\n",
        "\n",
        "pprint(dict(prod))\n",
        "\n",
        "from chempy import mass_fractions\n",
        "for fractions in map(mass_fractions, [reac, prod]):\n",
        "  pprint({k: '{0:.3g} wt%'.format(v*100) for k, v in fractions.items()})\n"
      ],
      "metadata": {
        "colab": {
          "base_uri": "https://localhost:8080/"
        },
        "id": "VD7hML12_gFz",
        "outputId": "1d1fa533-960b-40a5-8ae5-c8ecf8077700"
      },
      "execution_count": null,
      "outputs": [
        {
          "output_type": "stream",
          "name": "stdout",
          "text": [
            "{'Al': 10, 'NH4ClO4': 6}\n",
            "{'Al2O3': 5, 'H2O': 9, 'HCl': 6, 'N2': 3}\n",
            "{'Al': '27.7 wt%', 'NH4ClO4': '72.3 wt%'}\n",
            "{'Al2O3': '52.3 wt%', 'H2O': '16.6 wt%', 'HCl': '22.4 wt%', 'N2': '8.62 wt%'}\n"
          ]
        }
      ]
    },
    {
      "cell_type": "markdown",
      "source": [
        "*ChemPy can also balance reactions where the reacting species are more complex and are better described in other terms than their molecular formula.*"
      ],
      "metadata": {
        "id": "dsouOTMrAp83"
      }
    },
    {
      "cell_type": "code",
      "source": [
        "substances = {s.name: s for s in [\n",
        "     Substance('pancake', composition=dict(eggs=1, spoons_of_flour=2, cups_of_milk=1)),\n",
        "     Substance('eggs_6pack', composition=dict(eggs=6)),\n",
        "     Substance('milk_carton', composition=dict(cups_of_milk=4)),\n",
        "     Substance('flour_bag', composition=dict(spoons_of_flour=60))\n",
        " ]}\n",
        "pprint([dict(_) for _ in balance_stoichiometry({'eggs_6pack', 'milk_carton', 'flour_bag'},\n",
        "                                              {'pancake'}, substances=substances)])\n"
      ],
      "metadata": {
        "colab": {
          "base_uri": "https://localhost:8080/"
        },
        "id": "33_JBG4CAXzo",
        "outputId": "1767080f-702c-4849-df0d-330f81932d41"
      },
      "execution_count": null,
      "outputs": [
        {
          "output_type": "stream",
          "name": "stdout",
          "text": [
            "[{'eggs_6pack': 10, 'flour_bag': 2, 'milk_carton': 15}, {'pancake': 60}]\n"
          ]
        }
      ]
    },
    {
      "cell_type": "markdown",
      "source": [
        "*ChemPy can even handle reactions with linear dependencies (underdetermined systems), e.g.:*"
      ],
      "metadata": {
        "id": "TDRq0mksA0R1"
      }
    },
    {
      "cell_type": "code",
      "source": [
        "pprint([dict(_) for _ in balance_stoichiometry({'C', 'O2'}, {'CO2', 'CO'})])  # doctest: +SKIP"
      ],
      "metadata": {
        "colab": {
          "base_uri": "https://localhost:8080/"
        },
        "id": "pQ45fIlVA2LG",
        "outputId": "e4846afc-c4d5-4b4c-ea5b-faf1d77d9ffd"
      },
      "execution_count": null,
      "outputs": [
        {
          "output_type": "stream",
          "name": "stdout",
          "text": [
            "[{'C': x1 + 1, 'O2': x1 + 1/2}, {'CO': 1, 'CO2': x1}]\n"
          ]
        }
      ]
    },
    {
      "cell_type": "markdown",
      "source": [
        "*Balancing reactions*"
      ],
      "metadata": {
        "id": "OvlMTAVOBXcO"
      }
    },
    {
      "cell_type": "code",
      "source": [
        "from chempy import Equilibrium\n",
        "from sympy import symbols\n",
        "K1, K2, Kw = symbols('K1 K2 Kw')\n",
        "e1 = Equilibrium({'MnO4-': 1, 'H+': 8, 'e-': 5}, {'Mn+2': 1, 'H2O': 4}, K1)\n",
        "e2 = Equilibrium({'O2': 1, 'H2O': 2, 'e-': 4}, {'OH-': 4}, K2)\n",
        "coeff = Equilibrium.eliminate([e1, e2], 'e-')\n",
        "print(coeff)\n",
        "redox = e1*coeff[0] + e2*coeff[1]\n",
        "print(redox)\n",
        "autoprot = Equilibrium({'H2O': 1}, {'H+': 1, 'OH-': 1}, Kw)\n",
        "n = redox.cancel(autoprot)\n",
        "print(n)\n",
        "redox2 = redox + n*autoprot\n",
        "print(redox2)"
      ],
      "metadata": {
        "colab": {
          "base_uri": "https://localhost:8080/"
        },
        "id": "XzXaO0GjBWuK",
        "outputId": "c5d5b1c4-6025-42f8-9888-976ec7dbd5ef"
      },
      "execution_count": null,
      "outputs": [
        {
          "output_type": "stream",
          "name": "stdout",
          "text": [
            "[4, -5]\n",
            "32 H+ + 4 MnO4- + 20 OH- = 26 H2O + 4 Mn+2 + 5 O2; K1**4/K2**5\n",
            "20\n",
            "12 H+ + 4 MnO4- = 6 H2O + 4 Mn+2 + 5 O2; K1**4*Kw**20/K2**5\n"
          ]
        }
      ]
    },
    {
      "cell_type": "markdown",
      "source": [
        "*Working with units*\n",
        "*Functions and objects useful for working with units are available from the chempy.units module. Here is an example of how ChemPy can check consistency of units:*"
      ],
      "metadata": {
        "id": "GWTQFBeLCCZN"
      }
    },
    {
      "cell_type": "code",
      "source": [
        "from chempy import Reaction\n",
        "r = Reaction.from_string(\"H2O -> H+ + OH-; 1e-4/M/s\")\n",
        "\n",
        "#it will throw an error so use this module\n",
        "# from chempy.units import to_unitless, default_units"
      ],
      "metadata": {
        "colab": {
          "base_uri": "https://localhost:8080/",
          "height": 467
        },
        "id": "_A7KWG_TCB0W",
        "outputId": "9986629b-af88-4418-8f7f-d190e603de05"
      },
      "execution_count": null,
      "outputs": [
        {
          "output_type": "error",
          "ename": "ValueError",
          "evalue": "ignored",
          "traceback": [
            "\u001b[0;31m---------------------------------------------------------------------------\u001b[0m",
            "\u001b[0;31mAssertionError\u001b[0m                            Traceback (most recent call last)",
            "\u001b[0;32m/usr/local/lib/python3.7/dist-packages/quantities/quantity.py\u001b[0m in \u001b[0;36mrescale\u001b[0;34m(self, units)\u001b[0m\n\u001b[1;32m    213\u001b[0m         \u001b[0;32mtry\u001b[0m\u001b[0;34m:\u001b[0m\u001b[0;34m\u001b[0m\u001b[0;34m\u001b[0m\u001b[0m\n\u001b[0;32m--> 214\u001b[0;31m             \u001b[0mcf\u001b[0m \u001b[0;34m=\u001b[0m \u001b[0mget_conversion_factor\u001b[0m\u001b[0;34m(\u001b[0m\u001b[0mfrom_u\u001b[0m\u001b[0;34m,\u001b[0m \u001b[0mto_u\u001b[0m\u001b[0;34m)\u001b[0m\u001b[0;34m\u001b[0m\u001b[0;34m\u001b[0m\u001b[0m\n\u001b[0m\u001b[1;32m    215\u001b[0m         \u001b[0;32mexcept\u001b[0m \u001b[0mAssertionError\u001b[0m\u001b[0;34m:\u001b[0m\u001b[0;34m\u001b[0m\u001b[0;34m\u001b[0m\u001b[0m\n",
            "\u001b[0;32m/usr/local/lib/python3.7/dist-packages/quantities/quantity.py\u001b[0m in \u001b[0;36mget_conversion_factor\u001b[0;34m(from_u, to_u)\u001b[0m\n\u001b[1;32m     51\u001b[0m     \u001b[0mto_u\u001b[0m \u001b[0;34m=\u001b[0m \u001b[0mto_u\u001b[0m\u001b[0;34m.\u001b[0m\u001b[0m_reference\u001b[0m\u001b[0;34m\u001b[0m\u001b[0;34m\u001b[0m\u001b[0m\n\u001b[0;32m---> 52\u001b[0;31m     \u001b[0;32massert\u001b[0m \u001b[0mfrom_u\u001b[0m\u001b[0;34m.\u001b[0m\u001b[0mdimensionality\u001b[0m \u001b[0;34m==\u001b[0m \u001b[0mto_u\u001b[0m\u001b[0;34m.\u001b[0m\u001b[0mdimensionality\u001b[0m\u001b[0;34m\u001b[0m\u001b[0;34m\u001b[0m\u001b[0m\n\u001b[0m\u001b[1;32m     53\u001b[0m     \u001b[0;32mreturn\u001b[0m \u001b[0mfrom_u\u001b[0m\u001b[0;34m.\u001b[0m\u001b[0mmagnitude\u001b[0m \u001b[0;34m/\u001b[0m \u001b[0mto_u\u001b[0m\u001b[0;34m.\u001b[0m\u001b[0mmagnitude\u001b[0m\u001b[0;34m\u001b[0m\u001b[0;34m\u001b[0m\u001b[0m\n",
            "\u001b[0;31mAssertionError\u001b[0m: ",
            "\nDuring handling of the above exception, another exception occurred:\n",
            "\u001b[0;31mValueError\u001b[0m                                Traceback (most recent call last)",
            "\u001b[0;32m<ipython-input-19-e2cf0bb9ae4a>\u001b[0m in \u001b[0;36m<module>\u001b[0;34m\u001b[0m\n\u001b[1;32m      1\u001b[0m \u001b[0;32mfrom\u001b[0m \u001b[0mchempy\u001b[0m \u001b[0;32mimport\u001b[0m \u001b[0mReaction\u001b[0m\u001b[0;34m\u001b[0m\u001b[0;34m\u001b[0m\u001b[0m\n\u001b[0;32m----> 2\u001b[0;31m \u001b[0mr\u001b[0m \u001b[0;34m=\u001b[0m \u001b[0mReaction\u001b[0m\u001b[0;34m.\u001b[0m\u001b[0mfrom_string\u001b[0m\u001b[0;34m(\u001b[0m\u001b[0;34m\"H2O -> H+ + OH-; 1e-4/M/s\"\u001b[0m\u001b[0;34m)\u001b[0m\u001b[0;34m\u001b[0m\u001b[0;34m\u001b[0m\u001b[0m\n\u001b[0m\u001b[1;32m      3\u001b[0m \u001b[0;34m\u001b[0m\u001b[0m\n\u001b[1;32m      4\u001b[0m \u001b[0;31m#it will throw an error so use this module\u001b[0m\u001b[0;34m\u001b[0m\u001b[0;34m\u001b[0m\u001b[0;34m\u001b[0m\u001b[0m\n\u001b[1;32m      5\u001b[0m \u001b[0;31m# from chempy.units import to_unitless, default_units\u001b[0m\u001b[0;34m\u001b[0m\u001b[0;34m\u001b[0m\u001b[0;34m\u001b[0m\u001b[0m\n",
            "\u001b[0;32m/usr/local/lib/python3.7/dist-packages/chempy/chemistry.py\u001b[0m in \u001b[0;36mfrom_string\u001b[0;34m(cls, string, substance_keys, globals_, **kwargs)\u001b[0m\n\u001b[1;32m    497\u001b[0m             \u001b[0;32mif\u001b[0m \u001b[0;34m' '\u001b[0m \u001b[0;32min\u001b[0m \u001b[0msubstance_keys\u001b[0m\u001b[0;34m:\u001b[0m\u001b[0;34m\u001b[0m\u001b[0;34m\u001b[0m\u001b[0m\n\u001b[1;32m    498\u001b[0m                 \u001b[0msubstance_keys\u001b[0m \u001b[0;34m=\u001b[0m \u001b[0msubstance_keys\u001b[0m\u001b[0;34m.\u001b[0m\u001b[0msplit\u001b[0m\u001b[0;34m(\u001b[0m\u001b[0;34m)\u001b[0m\u001b[0;34m\u001b[0m\u001b[0;34m\u001b[0m\u001b[0m\n\u001b[0;32m--> 499\u001b[0;31m         \u001b[0;32mreturn\u001b[0m \u001b[0mto_reaction\u001b[0m\u001b[0;34m(\u001b[0m\u001b[0mstring\u001b[0m\u001b[0;34m,\u001b[0m \u001b[0msubstance_keys\u001b[0m\u001b[0;34m,\u001b[0m \u001b[0mcls\u001b[0m\u001b[0;34m.\u001b[0m\u001b[0m_str_arrow\u001b[0m\u001b[0;34m,\u001b[0m \u001b[0mcls\u001b[0m\u001b[0;34m,\u001b[0m \u001b[0mglobals_\u001b[0m\u001b[0;34m,\u001b[0m \u001b[0;34m**\u001b[0m\u001b[0mkwargs\u001b[0m\u001b[0;34m)\u001b[0m\u001b[0;34m\u001b[0m\u001b[0;34m\u001b[0m\u001b[0m\n\u001b[0m\u001b[1;32m    500\u001b[0m \u001b[0;34m\u001b[0m\u001b[0m\n\u001b[1;32m    501\u001b[0m     \u001b[0;32mdef\u001b[0m \u001b[0mcopy\u001b[0m\u001b[0;34m(\u001b[0m\u001b[0mself\u001b[0m\u001b[0;34m,\u001b[0m \u001b[0;34m**\u001b[0m\u001b[0mkwargs\u001b[0m\u001b[0;34m)\u001b[0m\u001b[0;34m:\u001b[0m\u001b[0;34m\u001b[0m\u001b[0;34m\u001b[0m\u001b[0m\n",
            "\u001b[0;32m/usr/local/lib/python3.7/dist-packages/chempy/util/parsing.py\u001b[0m in \u001b[0;36mto_reaction\u001b[0;34m(line, substance_keys, token, Cls, globals_, **kwargs)\u001b[0m\n\u001b[1;32m    393\u001b[0m     \u001b[0;31m# stoich coeff -> dict\u001b[0m\u001b[0;34m\u001b[0m\u001b[0;34m\u001b[0m\u001b[0;34m\u001b[0m\u001b[0m\n\u001b[1;32m    394\u001b[0m     return Cls(act[0], act[1], param, inact_reac=inact[0],\n\u001b[0;32m--> 395\u001b[0;31m                inact_prod=inact[1], **kwargs)\n\u001b[0m\u001b[1;32m    396\u001b[0m \u001b[0;34m\u001b[0m\u001b[0m\n\u001b[1;32m    397\u001b[0m \u001b[0;34m\u001b[0m\u001b[0m\n",
            "\u001b[0;32m/usr/local/lib/python3.7/dist-packages/chempy/chemistry.py\u001b[0m in \u001b[0;36m__init__\u001b[0;34m(self, reac, prod, param, inact_reac, inact_prod, name, ref, data, checks, dont_check)\u001b[0m\n\u001b[1;32m    448\u001b[0m \u001b[0;34m\u001b[0m\u001b[0m\n\u001b[1;32m    449\u001b[0m         \u001b[0;32mfor\u001b[0m \u001b[0mcheck\u001b[0m \u001b[0;32min\u001b[0m \u001b[0mchecks\u001b[0m\u001b[0;34m:\u001b[0m\u001b[0;34m\u001b[0m\u001b[0;34m\u001b[0m\u001b[0m\n\u001b[0;32m--> 450\u001b[0;31m             \u001b[0mgetattr\u001b[0m\u001b[0;34m(\u001b[0m\u001b[0mself\u001b[0m\u001b[0;34m,\u001b[0m \u001b[0;34m'check_'\u001b[0m\u001b[0;34m+\u001b[0m\u001b[0mcheck\u001b[0m\u001b[0;34m)\u001b[0m\u001b[0;34m(\u001b[0m\u001b[0mthrow\u001b[0m\u001b[0;34m=\u001b[0m\u001b[0;32mTrue\u001b[0m\u001b[0;34m)\u001b[0m\u001b[0;34m\u001b[0m\u001b[0;34m\u001b[0m\u001b[0m\n\u001b[0m\u001b[1;32m    451\u001b[0m \u001b[0;34m\u001b[0m\u001b[0m\n\u001b[1;32m    452\u001b[0m     \u001b[0;34m@\u001b[0m\u001b[0mclassmethod\u001b[0m\u001b[0;34m\u001b[0m\u001b[0;34m\u001b[0m\u001b[0m\n",
            "\u001b[0;32m/usr/local/lib/python3.7/dist-packages/chempy/chemistry.py\u001b[0m in \u001b[0;36mcheck_consistent_units\u001b[0;34m(self, throw)\u001b[0m\n\u001b[1;32m    546\u001b[0m             \u001b[0;32mtry\u001b[0m\u001b[0;34m:\u001b[0m\u001b[0;34m\u001b[0m\u001b[0;34m\u001b[0m\u001b[0m\n\u001b[1;32m    547\u001b[0m                 to_unitless(param/(\n\u001b[0;32m--> 548\u001b[0;31m                     default_units.molar**(1-self.order())/default_units.s))\n\u001b[0m\u001b[1;32m    549\u001b[0m             \u001b[0;32mexcept\u001b[0m \u001b[0mException\u001b[0m\u001b[0;34m:\u001b[0m\u001b[0;34m\u001b[0m\u001b[0;34m\u001b[0m\u001b[0m\n\u001b[1;32m    550\u001b[0m                 \u001b[0;32mif\u001b[0m \u001b[0mthrow\u001b[0m\u001b[0;34m:\u001b[0m\u001b[0;34m\u001b[0m\u001b[0;34m\u001b[0m\u001b[0m\n",
            "\u001b[0;32m/usr/local/lib/python3.7/dist-packages/chempy/units.py\u001b[0m in \u001b[0;36mto_unitless\u001b[0;34m(value, new_unit)\u001b[0m\n\u001b[1;32m    373\u001b[0m         \u001b[0;32mtry\u001b[0m\u001b[0;34m:\u001b[0m\u001b[0;34m\u001b[0m\u001b[0;34m\u001b[0m\u001b[0m\n\u001b[1;32m    374\u001b[0m             \u001b[0;32mtry\u001b[0m\u001b[0;34m:\u001b[0m\u001b[0;34m\u001b[0m\u001b[0;34m\u001b[0m\u001b[0m\n\u001b[0;32m--> 375\u001b[0;31m                 \u001b[0mresult\u001b[0m \u001b[0;34m=\u001b[0m \u001b[0;34m(\u001b[0m\u001b[0mvalue\u001b[0m\u001b[0;34m*\u001b[0m\u001b[0mpq\u001b[0m\u001b[0;34m.\u001b[0m\u001b[0mdimensionless\u001b[0m\u001b[0;34m/\u001b[0m\u001b[0mnew_unit\u001b[0m\u001b[0;34m)\u001b[0m\u001b[0;34m.\u001b[0m\u001b[0mrescale\u001b[0m\u001b[0;34m(\u001b[0m\u001b[0mpq\u001b[0m\u001b[0;34m.\u001b[0m\u001b[0mdimensionless\u001b[0m\u001b[0;34m)\u001b[0m\u001b[0;34m\u001b[0m\u001b[0;34m\u001b[0m\u001b[0m\n\u001b[0m\u001b[1;32m    376\u001b[0m             \u001b[0;32mexcept\u001b[0m \u001b[0mAttributeError\u001b[0m\u001b[0;34m:\u001b[0m\u001b[0;34m\u001b[0m\u001b[0;34m\u001b[0m\u001b[0m\n\u001b[1;32m    377\u001b[0m                 \u001b[0;32mif\u001b[0m \u001b[0mnew_unit\u001b[0m \u001b[0;34m==\u001b[0m \u001b[0mpq\u001b[0m\u001b[0;34m.\u001b[0m\u001b[0mdimensionless\u001b[0m\u001b[0;34m:\u001b[0m\u001b[0;34m\u001b[0m\u001b[0;34m\u001b[0m\u001b[0m\n",
            "\u001b[0;32m/usr/local/lib/python3.7/dist-packages/quantities/quantity.py\u001b[0m in \u001b[0;36mrescale\u001b[0;34m(self, units)\u001b[0m\n\u001b[1;32m    216\u001b[0m             raise ValueError(\n\u001b[1;32m    217\u001b[0m                 \u001b[0;34m'Unable to convert between units of \"%s\" and \"%s\"'\u001b[0m\u001b[0;34m\u001b[0m\u001b[0;34m\u001b[0m\u001b[0m\n\u001b[0;32m--> 218\u001b[0;31m                 \u001b[0;34m%\u001b[0m\u001b[0;34m(\u001b[0m\u001b[0mfrom_u\u001b[0m\u001b[0;34m.\u001b[0m\u001b[0m_dimensionality\u001b[0m\u001b[0;34m,\u001b[0m \u001b[0mto_u\u001b[0m\u001b[0;34m.\u001b[0m\u001b[0m_dimensionality\u001b[0m\u001b[0;34m)\u001b[0m\u001b[0;34m\u001b[0m\u001b[0;34m\u001b[0m\u001b[0m\n\u001b[0m\u001b[1;32m    219\u001b[0m             )\n\u001b[1;32m    220\u001b[0m         \u001b[0;32mreturn\u001b[0m \u001b[0mQuantity\u001b[0m\u001b[0;34m(\u001b[0m\u001b[0mcf\u001b[0m\u001b[0;34m*\u001b[0m\u001b[0mself\u001b[0m\u001b[0;34m.\u001b[0m\u001b[0mmagnitude\u001b[0m\u001b[0;34m,\u001b[0m \u001b[0mto_u\u001b[0m\u001b[0;34m)\u001b[0m\u001b[0;34m\u001b[0m\u001b[0;34m\u001b[0m\u001b[0m\n",
            "\u001b[0;31mValueError\u001b[0m: Unable to convert between units of \"1/M\" and \"dimensionless\""
          ]
        }
      ]
    },
    {
      "cell_type": "code",
      "source": [
        "r = Reaction.from_string(\"H2O -> H+ + OH-; 1e-4/s\")\n",
        "from chempy.units import to_unitless, default_units as u\n",
        "to_unitless(r.param, 1/u.minute)\n"
      ],
      "metadata": {
        "colab": {
          "base_uri": "https://localhost:8080/"
        },
        "id": "knCbEUpOCQYY",
        "outputId": "44ee7fa3-7c23-42a4-e57e-373c8548ffed"
      },
      "execution_count": null,
      "outputs": [
        {
          "output_type": "execute_result",
          "data": {
            "text/plain": [
              "0.006"
            ]
          },
          "metadata": {},
          "execution_count": 18
        }
      ]
    },
    {
      "cell_type": "markdown",
      "source": [
        "*Chemical equilibria*\n",
        "*If we want to predict pH of a bicarbonate solution we simply just need pKa and pKw values:*"
      ],
      "metadata": {
        "id": "ehgPhMmPChfW"
      }
    },
    {
      "cell_type": "code",
      "source": [
        "from collections import defaultdict\n",
        "from chempy.equilibria import EqSystem\n",
        "eqsys = EqSystem.from_string(\"\"\"HCO3- = H+ + CO3-2; 10**-10.3\n",
        " H2CO3 = H+ + HCO3-; 10**-6.3\n",
        "\n",
        " H2O = H+ + OH-; 10**-14/55.4\n",
        "\n",
        " \"\"\")  # pKa1(H2CO3) = 6.3 (implicitly incl. CO2(aq)), pKa2=10.3 & pKw=14\n",
        "\n",
        "arr, info, sane = eqsys.root(defaultdict(float, {'H2O': 55.4, 'HCO3-': 1e-2}))\n",
        "conc = dict(zip(eqsys.substances, arr))\n",
        "from math import log10\n",
        "print(\"pH: %.2f\" % -log10(conc['H+']))"
      ],
      "metadata": {
        "colab": {
          "base_uri": "https://localhost:8080/"
        },
        "id": "OduOkgdxCjZk",
        "outputId": "df59d812-26ae-4ccd-d393-3cc324f9634c"
      },
      "execution_count": null,
      "outputs": [
        {
          "output_type": "stream",
          "name": "stdout",
          "text": [
            "pH: 8.30\n"
          ]
        }
      ]
    },
    {
      "cell_type": "markdown",
      "source": [
        "*here is another example for ammonia:*"
      ],
      "metadata": {
        "id": "pX_ZF-SQC5l1"
      }
    },
    {
      "cell_type": "code",
      "source": [
        "from chempy import Equilibrium\n",
        "from chempy.chemistry import Species\n",
        "water_autop = Equilibrium({'H2O'}, {'H+', 'OH-'}, 10**-14)  # unit \"molar\" assumed\n",
        "ammonia_prot = Equilibrium({'NH4+'}, {'NH3', 'H+'}, 10**-9.24)  # same here\n",
        "substances = [Species.from_formula(f) for f in 'H2O OH- H+ NH3 NH4+'.split()]\n",
        "eqsys = EqSystem([water_autop, ammonia_prot], substances)\n",
        "print('\\n'.join(map(str, eqsys.rxns)))  # \"rxns\" short for \"reactions\"\n",
        "\n",
        "init_conc = defaultdict(float, {'H2O': 1, 'NH3': 0.1})\n",
        "x, sol, sane = eqsys.root(init_conc)\n",
        "assert sol['success'] and sane\n",
        "print(', '.join('%.2g' % v for v in x))"
      ],
      "metadata": {
        "colab": {
          "base_uri": "https://localhost:8080/"
        },
        "id": "wN4HVz1CC828",
        "outputId": "44c404a8-81b3-4f59-dfc7-14842a29a08b"
      },
      "execution_count": null,
      "outputs": [
        {
          "output_type": "stream",
          "name": "stdout",
          "text": [
            "H2O = H+ + OH-; 1e-14\n",
            "NH4+ = H+ + NH3; 5.75e-10\n",
            "1, 0.0013, 7.6e-12, 0.099, 0.0013\n"
          ]
        }
      ]
    },
    {
      "cell_type": "markdown",
      "source": [
        "*Concepts*\n",
        "*ChemPy collects equations and utility functions for working with concepts such as ionic strength:*"
      ],
      "metadata": {
        "id": "qUa54fyrDIuz"
      }
    },
    {
      "cell_type": "code",
      "source": [
        "from chempy.electrolytes import ionic_strength\n",
        "ionic_strength({'Fe+3': 0.050, 'ClO4-': 0.150}) == .3\n"
      ],
      "metadata": {
        "colab": {
          "base_uri": "https://localhost:8080/"
        },
        "id": "BEGlW9O4DHkR",
        "outputId": "d02a96d3-e5c1-495d-f550-0e4f3a12132c"
      },
      "execution_count": null,
      "outputs": [
        {
          "output_type": "execute_result",
          "data": {
            "text/plain": [
              "True"
            ]
          },
          "metadata": {},
          "execution_count": 22
        }
      ]
    },
    {
      "cell_type": "markdown",
      "source": [],
      "metadata": {
        "id": "92wC-Z8VDTeN"
      }
    }
  ]
}