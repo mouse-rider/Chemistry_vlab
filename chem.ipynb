{
  "nbformat": 4,
  "nbformat_minor": 0,
  "metadata": {
    "colab": {
      "provenance": [],
      "collapsed_sections": []
    },
    "kernelspec": {
      "name": "python3",
      "display_name": "Python 3"
    },
    "language_info": {
      "name": "python"
    }
  },
  "cells": [
    {
      "cell_type": "code",
      "execution_count": null,
      "metadata": {
        "colab": {
          "base_uri": "https://localhost:8080/"
        },
        "id": "-HZLLYAYn60f",
        "outputId": "98d5a4b9-2db5-4f89-b21a-2a9258d73757"
      },
      "outputs": [
        {
          "output_type": "execute_result",
          "data": {
            "text/plain": [
              "180.156162"
            ]
          },
          "metadata": {},
          "execution_count": 5
        }
      ],
      "source": [
        "from molmass import Formula\n",
        "\n",
        "Formula('C6H12O6').isotope.mass\n",
        "\n",
        "Formula('C6H12O6').mass  \n"
      ]
    },
    {
      "cell_type": "markdown",
      "source": [
        " to find mass value OF CHEMICAL in this unit of g/mol\n",
        "\n",
        " https://stackoverflow.com/questions/16699180/how-to-get-molecular-weight-of-a-compound-in-python\n",
        "\n",
        "---\n",
        "\n",
        "\n",
        "\n",
        "---\n",
        "\n"
      ],
      "metadata": {
        "id": "ti-XHJCGowB1"
      }
    },
    {
      "cell_type": "code",
      "source": [
        "pip install pubchempy"
      ],
      "metadata": {
        "colab": {
          "base_uri": "https://localhost:8080/"
        },
        "id": "R7qYh0lmoa2R",
        "outputId": "95f5a7b7-7628-4af1-bd1a-a1a5e91049e2"
      },
      "execution_count": 26,
      "outputs": [
        {
          "output_type": "stream",
          "name": "stdout",
          "text": [
            "Looking in indexes: https://pypi.org/simple, https://us-python.pkg.dev/colab-wheels/public/simple/\n",
            "Collecting pubchempy\n",
            "  Downloading PubChemPy-1.0.4.tar.gz (29 kB)\n",
            "Building wheels for collected packages: pubchempy\n",
            "  Building wheel for pubchempy (setup.py) ... \u001b[?25l\u001b[?25hdone\n",
            "  Created wheel for pubchempy: filename=PubChemPy-1.0.4-py3-none-any.whl size=13834 sha256=f3c5a6937848c0c62ffe5b404948f8271df876d26c4b0835969c9475b74061c6\n",
            "  Stored in directory: /root/.cache/pip/wheels/7c/3d/8c/8192697412e9899dc55bbbb08bbc1197bef333caaa2a71c448\n",
            "Successfully built pubchempy\n",
            "Installing collected packages: pubchempy\n",
            "Successfully installed pubchempy-1.0.4\n"
          ]
        }
      ]
    },
    {
      "cell_type": "code",
      "source": [
        "pip install rdkit"
      ],
      "metadata": {
        "colab": {
          "base_uri": "https://localhost:8080/"
        },
        "id": "I--yWywm7zob",
        "outputId": "81f2e82e-9791-4165-d781-58611afc1d3c"
      },
      "execution_count": 27,
      "outputs": [
        {
          "output_type": "stream",
          "name": "stdout",
          "text": [
            "Looking in indexes: https://pypi.org/simple, https://us-python.pkg.dev/colab-wheels/public/simple/\n",
            "Requirement already satisfied: rdkit in /usr/local/lib/python3.7/dist-packages (2022.3.5)\n",
            "Requirement already satisfied: numpy in /usr/local/lib/python3.7/dist-packages (from rdkit) (1.21.6)\n",
            "Requirement already satisfied: Pillow in /usr/local/lib/python3.7/dist-packages (from rdkit) (7.1.2)\n"
          ]
        }
      ]
    },
    {
      "cell_type": "code",
      "source": [
        "import pubchempy as pcp\n",
        "from rdkit import Chem\n",
        "from rdkit.Chem.Draw import IPythonConsole\n",
        "from molmass import Formula\n",
        "import pubchempy as pcp\n",
        "\n",
        "a=input(\"enter a chemical name : \")\n",
        "\n",
        "for compound in pcp.get_compounds(a, 'name'):\n",
        "    print(compound.cid)#CID NUMBER\n",
        "    print(compound.isomeric_smiles)#SMILE ID\n",
        "    print(Chem.MolFromSmiles(compound.isomeric_smiles))#image mol formate\n",
        "    vioxx = compound.from_cid(5090)\n",
        "    print(vioxx.molecular_formula)\n",
        "    print(vioxx.molecular_weight)\n",
        "    print(vioxx.xlogp)"
      ],
      "metadata": {
        "id": "kaw7LacFpfKI",
        "colab": {
          "base_uri": "https://localhost:8080/"
        },
        "outputId": "105ad1a2-21ee-4666-abef-1d2cb43c2738"
      },
      "execution_count": 39,
      "outputs": [
        {
          "output_type": "stream",
          "name": "stdout",
          "text": [
            "enter a chemical name : ammonia\n",
            "222\n",
            "N\n",
            "<rdkit.Chem.rdchem.Mol object at 0x7f4524393620>\n",
            "C17H14O4S\n",
            "314.4\n",
            "2.3\n"
          ]
        }
      ]
    },
    {
      "cell_type": "markdown",
      "source": [
        "Odor for chemical formula"
      ],
      "metadata": {
        "id": "b2pGcsjvprGz"
      }
    }
  ]
}