{
 "cells": [
  {
   "cell_type": "markdown",
   "id": "deb1f50a",
   "metadata": {},
   "source": [
    "# How to generate a 3D structure from a SMILES string\n",
    "\n",
    "reference : https://www.ccdc.cam.ac.uk/Community/blog/SMILES-to-3D-chemical-structure-CSD/"
   ]
  },
  {
   "cell_type": "code",
   "execution_count": 9,
   "id": "63653e2a",
   "metadata": {},
   "outputs": [
    {
     "name": "stdout",
     "output_type": "stream",
     "text": [
      "Collecting pysmiles\n",
      "  Downloading pysmiles-1.0.1.tar.gz (34 kB)\n",
      "  Preparing metadata (setup.py): started\n",
      "  Preparing metadata (setup.py): finished with status 'done'\n",
      "Collecting pbr\n",
      "  Using cached pbr-5.10.0-py2.py3-none-any.whl (112 kB)\n",
      "Collecting networkx~=2.0\n",
      "  Downloading networkx-2.8.6-py3-none-any.whl (2.0 MB)\n",
      "     ---------------------------------------- 2.0/2.0 MB 975.8 kB/s eta 0:00:00\n",
      "Building wheels for collected packages: pysmiles\n",
      "  Building wheel for pysmiles (setup.py): started\n",
      "  Building wheel for pysmiles (setup.py): finished with status 'done'\n",
      "  Created wheel for pysmiles: filename=pysmiles-1.0.1-py2.py3-none-any.whl size=22028 sha256=5a72fd4a63d1a769619c427731247eeca3f3d0f99c1821e4e5307d9790fee45e\n",
      "  Stored in directory: c:\\users\\kishore\\appdata\\local\\pip\\cache\\wheels\\76\\79\\31\\1dac70cb102d2975ec93fc178ad9c16a31370c76c060a544e2\n",
      "Successfully built pysmiles\n",
      "Installing collected packages: pbr, networkx, pysmiles\n",
      "Successfully installed networkx-2.8.6 pbr-5.10.0 pysmiles-1.0.1\n",
      "Note: you may need to restart the kernel to use updated packages.\n"
     ]
    },
    {
     "name": "stderr",
     "output_type": "stream",
     "text": [
      "  WARNING: The script pbr.exe is installed in 'C:\\Users\\kishore\\AppData\\Local\\Programs\\Python\\Python39\\Scripts' which is not on PATH.\n",
      "  Consider adding this directory to PATH or, if you prefer to suppress this warning, use --no-warn-script-location.\n",
      "WARNING: You are using pip version 22.0.4; however, version 22.2.2 is available.\n",
      "You should consider upgrading via the 'C:\\Users\\kishore\\AppData\\Local\\Programs\\Python\\Python39\\python.exe -m pip install --upgrade pip' command.\n"
     ]
    }
   ],
   "source": [
    "pip install pysmiles"
   ]
  },
  {
   "cell_type": "code",
   "execution_count": 10,
   "id": "daeaa609",
   "metadata": {},
   "outputs": [],
   "source": [
    "from pysmiles import read_smiles\n",
    "import networkx as nx\n",
    "\n",
    "smiles = 'C1CC[13CH2]CC1C1CCCCC1'\n",
    "mol = read_smiles(smiles)"
   ]
  },
  {
   "cell_type": "code",
   "execution_count": null,
   "id": "7d52c9b3",
   "metadata": {},
   "outputs": [],
   "source": []
  },
  {
   "cell_type": "code",
   "execution_count": 13,
   "id": "00106b87",
   "metadata": {},
   "outputs": [],
   "source": [
    "from rdkit import Chem\n",
    "from rdkit.Chem import AllChem\n",
    "from rdkit.Chem import Draw\n",
    "from rdkit.Chem.Draw import IPythonConsole\n",
    "# Convert SMILE into .mol\n",
    "my_mol=Chem.MolFromSmiles('NC(=N)N1CCC[C@H]1Cc2onc(n2)c3ccc(Nc4nc(cs4)c5ccc(Br)cc5)cc3')\n",
    "my_mol_with_H=Chem.AddHs(my_mol)\n",
    "AllChem.EmbedMolecule(my_mol_with_H)\n",
    "AllChem.MMFFOptimizeMolecule(my_mol_with_H)\n",
    "my_embedded_mol = Chem.RemoveHs(my_mol_with_H)\n",
    "#Save the molecule into an image\n",
    "Draw.MolToFile(my_mol,'molecule.png')\n",
    "#Save molecular rapresentation in mol files\n",
    "fout = Chem.SDWriter('./charged_test.mol')\n",
    "fout.write(my_embedded_mol)\n",
    "fout.close()\n"
   ]
  },
  {
   "cell_type": "code",
   "execution_count": 29,
   "id": "f8c19981",
   "metadata": {},
   "outputs": [
    {
     "data": {
      "image/png": "[encoded data removed]",
      "text/plain": [
       "<rdkit.Chem.rdchem.Mol at 0x29175ab3ca0>"
      ]
     },
     "execution_count": 29,
     "metadata": {},
     "output_type": "execute_result"
    }
   ],
   "source": [
    "my_mol"
   ]
  },
  {
   "cell_type": "markdown",
   "id": "c8974836",
   "metadata": {},
   "source": [
    "reference : https://www.rdkit.org/docs/GettingStartedInPython.html\n",
    "\n",
    "structure diagram"
   ]
  },
  {
   "cell_type": "code",
   "execution_count": null,
   "id": "7c6b15e0",
   "metadata": {},
   "outputs": [],
   "source": []
  }
 ],
 "metadata": {
  "kernelspec": {
   "display_name": "Python 3 (ipykernel)",
   "language": "python",
   "name": "python3"
  },
  "language_info": {
   "codemirror_mode": {
    "name": "ipython",
    "version": 3
   },
   "file_extension": ".py",
   "mimetype": "text/x-python",
   "name": "python",
   "nbconvert_exporter": "python",
   "pygments_lexer": "ipython3",
   "version": "3.9.12"
  }
 },
 "nbformat": 4,
 "nbformat_minor": 5
}
