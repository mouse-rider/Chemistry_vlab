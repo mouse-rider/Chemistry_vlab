{
 "cells": [
  {
   "cell_type": "code",
   "execution_count": null,
   "id": "3782b6d6",
   "metadata": {},
   "outputs": [],
   "source": [
    "pip install deepchem"
   ]
  },
  {
   "cell_type": "code",
   "execution_count": null,
   "id": "6a1eee82",
   "metadata": {},
   "outputs": [],
   "source": [
    "pip install --pre deepchem[tensorflow]"
   ]
  },
  {
   "cell_type": "code",
   "execution_count": 3,
   "id": "8f2b7b2c",
   "metadata": {},
   "outputs": [
    {
     "ename": "ModuleNotFoundError",
     "evalue": "No module named 'deepchem'",
     "output_type": "error",
     "traceback": [
      "\u001b[1;31m---------------------------------------------------------------------------\u001b[0m",
      "\u001b[1;31mModuleNotFoundError\u001b[0m                       Traceback (most recent call last)",
      "Input \u001b[1;32mIn [3]\u001b[0m, in \u001b[0;36m<cell line: 2>\u001b[1;34m()\u001b[0m\n\u001b[0;32m      1\u001b[0m \u001b[38;5;28;01mfrom\u001b[39;00m \u001b[38;5;21;01mrdkit\u001b[39;00m \u001b[38;5;28;01mimport\u001b[39;00m Chem\n\u001b[1;32m----> 2\u001b[0m \u001b[38;5;28;01mimport\u001b[39;00m \u001b[38;5;21;01mdeepchem\u001b[39;00m \u001b[38;5;28;01mas\u001b[39;00m \u001b[38;5;21;01mdc\u001b[39;00m\n\u001b[0;32m      3\u001b[0m \u001b[38;5;66;03m#first we create  a list of molecule object using rdkit.Chem module\u001b[39;00m\n\u001b[0;32m      4\u001b[0m mols \u001b[38;5;241m=\u001b[39m [Chem\u001b[38;5;241m.\u001b[39mMolFromSmiles(kishore) \u001b[38;5;28;01mfor\u001b[39;00m smile \u001b[38;5;129;01min\u001b[39;00m df\u001b[38;5;241m.\u001b[39msmiles]\n",
      "\u001b[1;31mModuleNotFoundError\u001b[0m: No module named 'deepchem'"
     ]
    }
   ],
   "source": [
    "from rdkit import Chem\n",
    "import deepchem as dc\n",
    "#first we create  a list of molecule object using rdkit.Chem module\n",
    "mols = [Chem.MolFromSmiles(kishore) for smile in df.smiles]\n",
    "feat = dc.feat.CircularFingerprint(size=1024)# instantiate the featurizer\n",
    "arr = feat.featurize(mols)#the featurize method returns an array\n",
    "\n",
    "y = df['HIV_active']\n",
    "x = pd.DaraFrame(arr); #put the array into a pandas dataframe\n",
    "df = pd.concat([x, y], axis=1)\n",
    "df.head()"
   ]
  },
  {
   "cell_type": "code",
   "execution_count": 2,
   "id": "9f1c3aaa",
   "metadata": {},
   "outputs": [
    {
     "name": "stdout",
     "output_type": "stream",
     "text": [
      "Note: you may need to restart the kernel to use updated packages.\n"
     ]
    },
    {
     "name": "stderr",
     "output_type": "stream",
     "text": [
      "\n",
      "Usage:   \n",
      "  C:\\Users\\kishore\\AppData\\Local\\Programs\\Python\\Python39\\python.exe -m pip install [options] <requirement specifier> [package-index-options] ...\n",
      "  C:\\Users\\kishore\\AppData\\Local\\Programs\\Python\\Python39\\python.exe -m pip install [options] -r <requirements file> [package-index-options] ...\n",
      "  C:\\Users\\kishore\\AppData\\Local\\Programs\\Python\\Python39\\python.exe -m pip install [options] [-e] <vcs project url> ...\n",
      "  C:\\Users\\kishore\\AppData\\Local\\Programs\\Python\\Python39\\python.exe -m pip install [options] [-e] <local project path> ...\n",
      "  C:\\Users\\kishore\\AppData\\Local\\Programs\\Python\\Python39\\python.exe -m pip install [options] <archive url/path> ...\n",
      "\n",
      "-e option requires 1 argument\n"
     ]
    }
   ],
   "source": [
    "pip install -e"
   ]
  },
  {
   "cell_type": "code",
   "execution_count": null,
   "id": "15cb8ca5",
   "metadata": {},
   "outputs": [],
   "source": []
  }
 ],
 "metadata": {
  "kernelspec": {
   "display_name": "Python 3 (ipykernel)",
   "language": "python",
   "name": "python3"
  },
  "language_info": {
   "codemirror_mode": {
    "name": "ipython",
    "version": 3
   },
   "file_extension": ".py",
   "mimetype": "text/x-python",
   "name": "python",
   "nbconvert_exporter": "python",
   "pygments_lexer": "ipython3",
   "version": "3.9.12"
  }
 },
 "nbformat": 4,
 "nbformat_minor": 5
}
